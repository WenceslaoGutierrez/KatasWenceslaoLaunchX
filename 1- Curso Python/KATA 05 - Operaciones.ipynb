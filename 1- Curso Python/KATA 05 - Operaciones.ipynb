{
 "cells": [
  {
   "cell_type": "markdown",
   "metadata": {},
   "source": [
    "# Módulo 5 - Usar Operaciones matematicas"
   ]
  },
  {
   "cell_type": "markdown",
   "metadata": {},
   "source": [
    "## Ejercicio 1\n",
    "Utilizar Operadores aritmeticos"
   ]
  },
  {
   "cell_type": "code",
   "execution_count": null,
   "metadata": {},
   "outputs": [],
   "source": [
    "tierra=149597870\n",
    "jupiter=778547200\n",
    "distanciakm=(jupiter-tierra)\n",
    "distanciaml=(jupiter-tierra)*0.621371\n",
    "print(f\"La distancia entre la tierra y jupiter\\nKilometros: {distanciakm}\\nMillas: {distanciaml}\")"
   ]
  },
  {
   "cell_type": "markdown",
   "metadata": {},
   "source": [
    "## Ejercicio 2\n",
    "Convierte cadenas en numeros y usa valores absolutos"
   ]
  },
  {
   "cell_type": "code",
   "execution_count": 11,
   "metadata": {},
   "outputs": [
    {
     "name": "stdout",
     "output_type": "stream",
     "text": [
      "La distancia del primer y segundo planeta es:\n",
      "Kilometros: 500\n",
      "Millas: 310.6855\n"
     ]
    }
   ],
   "source": [
    "arreglovariables=[int(input(\"Ingrese la distancia del sol del primer planeta\")),int(input(\"Ingrese la distancia del sol del segundo planeta\"))]\n",
    "distanciakm=abs(arreglovariables[0]-arreglovariables[1])\n",
    "distanciaml=abs((arreglovariables[0]-arreglovariables[1])*0.621371)\n",
    "print(f\"La distancia del primer y segundo planeta es:\\nKilometros: {distanciakm}\\nMillas: {distanciaml}\")\n"
   ]
  }
 ],
 "metadata": {
  "interpreter": {
   "hash": "e8fe44ff545672fb001e45de363b22af19608bbeacbfaea893415b66602f445d"
  },
  "kernelspec": {
   "display_name": "Python 3.10.2 64-bit",
   "language": "python",
   "name": "python3"
  },
  "language_info": {
   "codemirror_mode": {
    "name": "ipython",
    "version": 3
   },
   "file_extension": ".py",
   "mimetype": "text/x-python",
   "name": "python",
   "nbconvert_exporter": "python",
   "pygments_lexer": "ipython3",
   "version": "3.10.2"
  },
  "orig_nbformat": 4
 },
 "nbformat": 4,
 "nbformat_minor": 2
}
