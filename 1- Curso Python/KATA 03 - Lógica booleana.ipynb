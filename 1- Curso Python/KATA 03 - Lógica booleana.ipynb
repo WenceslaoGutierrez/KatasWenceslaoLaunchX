{
 "cells": [
  {
   "cell_type": "markdown",
   "metadata": {},
   "source": [
    "# Módulo 3 - Usar lógica booleana"
   ]
  },
  {
   "cell_type": "markdown",
   "metadata": {},
   "source": [
    "## Ejercicio 1\n",
    "Usar operadores if, else, elif"
   ]
  },
  {
   "cell_type": "code",
   "execution_count": null,
   "metadata": {},
   "outputs": [],
   "source": [
    "asteroide_vel =49\n",
    "if asteroide_vel>25 :\n",
    "    print('Alerta!!! el asteroide se acerca muy rapido a la tierra')\n",
    "else :\n",
    "    print('No pasa nada de nada')"
   ]
  },
  {
   "cell_type": "markdown",
   "metadata": {},
   "source": [
    "## Ejercicio 2"
   ]
  },
  {
   "cell_type": "code",
   "execution_count": null,
   "metadata": {},
   "outputs": [],
   "source": [
    "asteroide_vel =19\n",
    "if asteroide_vel>20 :\n",
    "    print('WOW! Se ve un rayo de luz en el cielo')\n",
    "elif asteroide_vel==20 :\n",
    "    print('WOW! Se ve un rayo de luz en el cielo')\n",
    "    #Nos podriamos ahorrar el elif si en el if utilizaramos >=\n",
    "else :\n",
    "    print('No pasa nada de nada')"
   ]
  },
  {
   "cell_type": "markdown",
   "metadata": {},
   "source": [
    "## Ejercicio 3\n",
    "Uso de operadores and y or"
   ]
  },
  {
   "cell_type": "code",
   "execution_count": null,
   "metadata": {},
   "outputs": [],
   "source": [
    "asteroide_vel= 10\n",
    "asteroide_tam= 999\n",
    "if asteroide_vel>25 and asteroide_tam>25 :\n",
    "    print ('ALERTA: bertha has already danced \\nUn asteroide muy peligroso se acerca a la tierra')\n",
    "elif asteroide_vel>20 :\n",
    "    print('WOW! Se ve un rayo de luz en el cielo')\n",
    "elif asteroide_tam<25 :\n",
    "    print('No pasa nada de nada')\n",
    "else :\n",
    "    print('No pasa nada de nada')"
   ]
  }
 ],
 "metadata": {
  "interpreter": {
   "hash": "e8fe44ff545672fb001e45de363b22af19608bbeacbfaea893415b66602f445d"
  },
  "kernelspec": {
   "display_name": "Python 3.10.2 64-bit",
   "language": "python",
   "name": "python3"
  },
  "language_info": {
   "codemirror_mode": {
    "name": "ipython",
    "version": 3
   },
   "file_extension": ".py",
   "mimetype": "text/x-python",
   "name": "python",
   "nbconvert_exporter": "python",
   "pygments_lexer": "ipython3",
   "version": "3.10.2"
  },
  "orig_nbformat": 4
 },
 "nbformat": 4,
 "nbformat_minor": 2
}
