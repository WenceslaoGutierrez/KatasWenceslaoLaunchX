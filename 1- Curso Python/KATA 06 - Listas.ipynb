{
 "cells": [
  {
   "cell_type": "markdown",
   "metadata": {},
   "source": [
    "# Módulo 6 Introduccion a las listas"
   ]
  },
  {
   "cell_type": "markdown",
   "metadata": {},
   "source": [
    "## Ejercicio 1\n",
    "Crear y usar listas de Python"
   ]
  },
  {
   "cell_type": "code",
   "execution_count": null,
   "metadata": {},
   "outputs": [],
   "source": [
    "planets=[\"Mercuriio\",\"Venus\",\"Tierra\",\"Marte\",\"Jupiter\",\"Saturno\",\"Urano\",\"Neptuno\"]\n",
    "print(f\"Hay {len(planets)} planetas\")\n",
    "planets.append(\"Pluton\")\n",
    "print(f\"Hay {len(planets)} planetas y el último es {planets[-1]}\")"
   ]
  },
  {
   "cell_type": "markdown",
   "metadata": {},
   "source": [
    "## Ejercicio 2\n",
    "Trabajando con datos de una lista"
   ]
  },
  {
   "cell_type": "code",
   "execution_count": 15,
   "metadata": {},
   "outputs": [
    {
     "name": "stdout",
     "output_type": "stream",
     "text": [
      "Los planetas mas cercanos al sol antes de Venus son ['Mercury']\n",
      "Los planetas mas alejados del sol despues de Venus son ['Earth', 'Mars', 'Jupiter', 'Saturn', 'Neptune']\n"
     ]
    }
   ],
   "source": [
    "# Lista de planetas\n",
    "planets = ['Mercury', 'Venus', 'Earth', 'Mars', 'Jupiter', 'Saturn', 'Neptune']\n",
    "planeta_solicitado=input(\"Ingresa el nombre del planeta en ingles !!!COMIENZA CON MAYUSCULA POR FAVOR!!!\")\n",
    "planeta_index=planets.index(planeta_solicitado)\n",
    "planetas_anteriores=planets[0:planeta_index]\n",
    "planetas_posteriores=planets[planeta_index+1:len(planets)]#pondria -1 como el ultimo pero por alguna razon omite neptuno si lo hago así\n",
    "print(f\"Los planetas mas cercanos al sol antes de {planeta_solicitado} son {planetas_anteriores}\\nLos planetas mas alejados del sol despues de {planeta_solicitado} son {planetas_posteriores}\")\n",
    "\n"
   ]
  }
 ],
 "metadata": {
  "interpreter": {
   "hash": "e8fe44ff545672fb001e45de363b22af19608bbeacbfaea893415b66602f445d"
  },
  "kernelspec": {
   "display_name": "Python 3.10.2 64-bit",
   "language": "python",
   "name": "python3"
  },
  "language_info": {
   "codemirror_mode": {
    "name": "ipython",
    "version": 3
   },
   "file_extension": ".py",
   "mimetype": "text/x-python",
   "name": "python",
   "nbconvert_exporter": "python",
   "pygments_lexer": "ipython3",
   "version": "3.10.2"
  },
  "orig_nbformat": 4
 },
 "nbformat": 4,
 "nbformat_minor": 2
}
