{
 "cells": [
  {
   "cell_type": "markdown",
   "metadata": {},
   "source": [
    "# Módulo 8 - Administrar datos con diccionarios"
   ]
  },
  {
   "cell_type": "markdown",
   "metadata": {},
   "source": [
    "## Ejercicio 1\n",
    "Creación de diccionarios de Python"
   ]
  },
  {
   "cell_type": "code",
   "execution_count": null,
   "metadata": {},
   "outputs": [],
   "source": [
    "planet={\n",
    "    'name': 'Mars',\n",
    "    'moons':2\n",
    "}\n",
    "print(f\"El planeta {planet['name']} tiene {planet['moons']} lunas.\")\n",
    "planet['circunferencia']= {\n",
    "    'polar': 6752 ,\n",
    "    'equatorial':6792\n",
    "}\n",
    "print(f\"El planeta {planet['name']} tiene una circunferencia polar de {planet['circunferencia']['polar']}\")"
   ]
  },
  {
   "cell_type": "markdown",
   "metadata": {},
   "source": [
    "## Ejercicio 2\n",
    "Cálculo de valores"
   ]
  },
  {
   "cell_type": "code",
   "execution_count": 11,
   "metadata": {},
   "outputs": [
    {
     "name": "stdout",
     "output_type": "stream",
     "text": [
      "El promedio de lunas entre planetas es 17.833333333333332\n"
     ]
    }
   ],
   "source": [
    "# Planets and moons\n",
    "planet_moons = {\n",
    "    'mercury': 0,\n",
    "    'venus': 0,\n",
    "    'earth': 1,\n",
    "    'mars': 2,\n",
    "    'jupiter': 79,\n",
    "    'saturn': 82,\n",
    "    'uranus': 27,\n",
    "    'neptune': 14,\n",
    "    'pluto': 5,\n",
    "    'haumea': 2,\n",
    "    'makemake': 1,\n",
    "    'eris': 1\n",
    "}\n",
    "total_lunas=0\n",
    "#Aquí almaceno la lista de los valores del diccionario\n",
    "moons=planet_moons.values()\n",
    "#Aquí almaceno la cantidad de planetas en base al tamaño del diccionario\n",
    "planets=len(planet_moons.keys())\n",
    "#comienza el ciclo para sumar el total de lunas\n",
    "for lunas in moons:\n",
    "    total_lunas+= lunas\n",
    "promedio=total_lunas/planets\n",
    "print(f\"El promedio de lunas entre planetas es {promedio}\")"
   ]
  }
 ],
 "metadata": {
  "interpreter": {
   "hash": "e8fe44ff545672fb001e45de363b22af19608bbeacbfaea893415b66602f445d"
  },
  "kernelspec": {
   "display_name": "Python 3.10.2 64-bit",
   "language": "python",
   "name": "python3"
  },
  "language_info": {
   "codemirror_mode": {
    "name": "ipython",
    "version": 3
   },
   "file_extension": ".py",
   "mimetype": "text/x-python",
   "name": "python",
   "nbconvert_exporter": "python",
   "pygments_lexer": "ipython3",
   "version": "3.10.2"
  },
  "orig_nbformat": 4
 },
 "nbformat": 4,
 "nbformat_minor": 2
}
