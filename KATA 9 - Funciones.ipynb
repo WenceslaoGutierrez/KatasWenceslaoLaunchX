{
 "cells": [
  {
   "cell_type": "markdown",
   "metadata": {},
   "source": [
    "# Módulo 9 - Uso de funciones en Python"
   ]
  },
  {
   "cell_type": "markdown",
   "metadata": {},
   "source": [
    "## Ejercicio 1\n",
    "Trabajar con argumentos en funciones"
   ]
  },
  {
   "cell_type": "code",
   "execution_count": null,
   "metadata": {},
   "outputs": [],
   "source": [
    "#funcion original\n",
    "def informe_general(tanque1,tanque2,tanque3):\n",
    "    promedio_tanques=(tanque1+tanque2+tanque3)/3\n",
    "    return f\"Informe general de combustible \\n Promedio de combustible: {promedio_tanques}%\\nCombustible tanque 1: {tanque1}%\\nCombustible tanque 2: {tanque2}%\\nCombustible tanque 3: {tanque3}%\""
   ]
  },
  {
   "cell_type": "code",
   "execution_count": null,
   "metadata": {},
   "outputs": [],
   "source": [
    "#funcion promedio\n",
    "def fpromedio(valores_funcion_anterior):\n",
    "    promedio=sum(valores_funcion_anterior)/len(valores_funcion_anterior)\n",
    "    return promedio\n",
    "#funcion actualizada utilizando la funcion promedio\n",
    "def informe_general(tanque1,tanque2,tanque3):\n",
    "    return f\"Informe general de combustible \\nPromedio de combustible: {fpromedio([tanque1,tanque2,tanque3])}%\\nCombustible tanque 1: {tanque1}%\\nCombustible tanque 2: {tanque2}%\\nCombustible tanque 3: {tanque3}%\"\n",
    "print(informe_general(100,90,90))"
   ]
  },
  {
   "cell_type": "markdown",
   "metadata": {},
   "source": [
    "## Ejercicio 2\n",
    "Trabajo con argumentos de palabra clave"
   ]
  },
  {
   "cell_type": "code",
   "execution_count": null,
   "metadata": {},
   "outputs": [],
   "source": [
    "#funcion original\n",
    "def finforme_cohete(hora_prelanz,tiempo_vuelo,destino,tanque_int,tanque_ext):\n",
    "    return f\"Mision {destino}\\nTiempo estimado para llegar: {hora_prelanz+tiempo_vuelo} horas\\nCombustible restante: {tanque_int+tanque_ext} litros\"\n",
    "print(finforme_cohete(50,89,\"Pluton\",54650,809468))"
   ]
  },
  {
   "cell_type": "code",
   "execution_count": null,
   "metadata": {},
   "outputs": [],
   "source": [
    "#funcion actualizada\n",
    "def finforme_cohete(destino,*minutes,**fuel_reservoirs):\n",
    "    return f\"Mision {destino}\\nTiempo estimado para llegar: {sum(minutes)} minutos\\nCombustible restante: {sum(fuel_reservoirs.values())} litros\"\n",
    "print(finforme_cohete(\"Marte\",80,60,interno=500,externo=1500))"
   ]
  },
  {
   "cell_type": "code",
   "execution_count": null,
   "metadata": {},
   "outputs": [],
   "source": [
    "#funcion actualizada que reconoce los nombres de los tanques\n",
    "def finforme_cohete(destino,*minutes,**fuel_reservoirs):\n",
    "     reporte=f\"Mision {destino}\\nTiempo estimado para llegar: {sum(minutes)} minutos\\nCombustible restante: {sum(fuel_reservoirs.values())} litros\\n\"\n",
    "     for nombre_tanque,litros_restantes in fuel_reservoirs.items():\n",
    "         reporte+=f\"Tanque {nombre_tanque} tiene {litros_restantes} litros restantes\\n\"\n",
    "     return reporte\n",
    "print(finforme_cohete(\"Jupiter\",66540,54086,Externo=15000,Interno=5000))"
   ]
  }
 ],
 "metadata": {
  "interpreter": {
   "hash": "e8fe44ff545672fb001e45de363b22af19608bbeacbfaea893415b66602f445d"
  },
  "kernelspec": {
   "display_name": "Python 3.10.2 64-bit",
   "language": "python",
   "name": "python3"
  },
  "language_info": {
   "codemirror_mode": {
    "name": "ipython",
    "version": 3
   },
   "file_extension": ".py",
   "mimetype": "text/x-python",
   "name": "python",
   "nbconvert_exporter": "python",
   "pygments_lexer": "ipython3",
   "version": "3.10.2"
  },
  "orig_nbformat": 4
 },
 "nbformat": 4,
 "nbformat_minor": 2
}
