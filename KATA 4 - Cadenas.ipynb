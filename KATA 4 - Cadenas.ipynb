{
 "cells": [
  {
   "cell_type": "markdown",
   "metadata": {},
   "source": [
    "# Módulo 4 - Manipular Cadenas"
   ]
  },
  {
   "cell_type": "markdown",
   "metadata": {},
   "source": [
    "## Ejercicio 1\n",
    "Transformar cadenas"
   ]
  },
  {
   "cell_type": "code",
   "execution_count": null,
   "metadata": {},
   "outputs": [],
   "source": [
    "texto = \"\"\"Interesting facts about the Moon. The Moon is Earth's only satellite. There are several interesting facts about the Moon and how it affects life here on Earth. \n",
    "On average, the Moon moves 4cm away from the Earth every year. This yearly drift is not significant enough to cause immediate effects on Earth. The highest daylight temperature of the Moon is 127 C.\"\"\"\n",
    "texto_split = texto.split(\". \")\n",
    "#texto_split\n",
    "palabrasclave= ['average','temperature','distance'] #distance sobra al parecer\n",
    "for oracion_encontrada in texto_split:\n",
    "    #se crea la variable oracion_encontrada para almacenar lo que se encuentre en la division de las oraciones\n",
    "    for palabra_encontrada in palabrasclave:\n",
    "        #se crea la variable palabra_encontrada para comparar cada palabra clave mas adelante\n",
    "        if palabra_encontrada in oracion_encontrada:\n",
    "            #con la variable ya creada se compara si se encuentra esa palabra y si sí entonces se imprime la oracion donde se encontro la palabra\n",
    "            print(oracion_encontrada)\n",
    "            break\n",
    "for oracion_encontrada in texto_split:\n",
    "    for palabra_encontrada in palabrasclave:\n",
    "        if palabra_encontrada in oracion_encontrada:\n",
    "            print(oracion_encontrada.replace(\"C\", \"Celcius\"))\n",
    "            #la unica diferencia aquí es que cuando encuentra C en la oracion que tiene una palabra clave entonces la cambia por Celcius\n",
    "            break\n",
    "\n",
    "\n"
   ]
  },
  {
   "cell_type": "markdown",
   "metadata": {},
   "source": [
    "## Ejercicio 2\n",
    "Formateando Cadenas"
   ]
  },
  {
   "cell_type": "code",
   "execution_count": null,
   "metadata": {},
   "outputs": [],
   "source": [
    "# Datos con los que vas a trabajar\n",
    "name = \"Moon\"\n",
    "gravity = 0.00162 # in kms\n",
    "planet = \"Earth\"\n",
    "\n",
    "#el f string nos permite malear el contenido de más maneras\n",
    "titulo=f\"La Gravedad de {name}\" #aquí anexamos el nombre en el titulo\n",
    "#WOW se pueden multiplicar los strings\n",
    "hechos = f\"{60*'-'} \\nPlaneta: {planet} \\nGravedad en {name}: {gravity * 1000} m/s2\"\n",
    "plantilla_unida=f\"{titulo.title()}\\n{hechos}\\n\"\n",
    "print(plantilla_unida)\n",
    "\n",
    "#####plantilla nueva con datos de marte\n",
    "planeta = 'Marte '\n",
    "gravedad  = 0.00143\n",
    "nombre = 'Ganímedes'\n",
    "plantilla_format=\"La Gravedad de {vnombre}\\n----------------------------------------------------------\\nPlaneta: {vplaneta}\\nGravedad en {vnombre}: {vgravedad} m/s2\"\n",
    "print(plantilla_format.format(vplaneta=planeta,vnombre=nombre,vgravedad=gravedad*1000))"
   ]
  }
 ],
 "metadata": {
  "interpreter": {
   "hash": "e8fe44ff545672fb001e45de363b22af19608bbeacbfaea893415b66602f445d"
  },
  "kernelspec": {
   "display_name": "Python 3.10.2 64-bit",
   "language": "python",
   "name": "python3"
  },
  "language_info": {
   "codemirror_mode": {
    "name": "ipython",
    "version": 3
   },
   "file_extension": ".py",
   "mimetype": "text/x-python",
   "name": "python",
   "nbconvert_exporter": "python",
   "pygments_lexer": "ipython3",
   "version": "3.10.2"
  },
  "orig_nbformat": 4
 },
 "nbformat": 4,
 "nbformat_minor": 2
}
